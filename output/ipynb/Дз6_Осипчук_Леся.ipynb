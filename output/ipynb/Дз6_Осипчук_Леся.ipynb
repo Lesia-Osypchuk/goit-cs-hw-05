{
  "nbformat": 4,
  "nbformat_minor": 0,
  "metadata": {
    "colab": {
      "provenance": []
    },
    "kernelspec": {
      "name": "python3",
      "display_name": "Python 3"
    },
    "language_info": {
      "name": "python"
    }
  },
  "cells": [
    {
      "cell_type": "code",
      "execution_count": 29,
      "metadata": {
        "colab": {
          "base_uri": "https://localhost:8080/",
          "height": 457
        },
        "id": "YDl8ne1wjAET",
        "outputId": "05928b09-6145-4a32-e44e-3c0d54223388"
      },
      "outputs": [
        {
          "output_type": "display_data",
          "data": {
            "text/plain": [
              "<Figure size 640x480 with 1 Axes>"
            ],
            "image/png": "[encoded data removed]"
          },
          "metadata": {}
        }
      ],
      "source": [
        "import numpy as np\n",
        "import matplotlib.pyplot as plt\n",
        "from matplotlib.patches import Polygon\n",
        "import sympy as sp\n",
        "import seaborn as sns\n",
        "\n",
        "# Задаємо символьну змінну x\n",
        "x_sym = sp.symbols('x')\n",
        "\n",
        "# Задаємо функцію\n",
        "def func(x):\n",
        "    return 2*(4/(1.2*sp.sqrt(2*sp.pi)) * sp.exp(-0.5*((x-11)/1.2)**2) + 7/(2.4*sp.sqrt(2*sp.pi)) * sp.exp(-0.5*((x-15)/2.4)**2))\n",
        "\n",
        "# Конвертуємо символьну функцію в числову\n",
        "func_numeric = sp.lambdify(x_sym, func(x_sym), 'numpy')\n",
        "\n",
        "# Границі інтегрування\n",
        "a, b = 9, 18  # integral limits\n",
        "\n",
        "# Діапазон зміни x\n",
        "x = np.linspace(0, 24, 1000)\n",
        "# Розраховуємо значення y\n",
        "y = func_numeric(x)\n",
        "\n",
        "fig, ax = plt.subplots()\n",
        "ax.plot(x, y, 'r', linewidth=2)\n",
        "ax.set_ylim(bottom=0)\n",
        "\n",
        "# Оформлюємо область\n",
        "# Генеруємо значення x та y в області інтегрування\n",
        "n = 1000\n",
        "ix = np.linspace(a, b,n)\n",
        "iy = func(ix)\n",
        "\n",
        "# Додаємо шкалу на осі x\n",
        "ax.set_xticks(np.arange(a, b+1, 1))\n",
        "ax.set_xticklabels(['$a$'] + ['$'+str(i)+'$' for i in range(a+1, b)] + ['$b$'])\n",
        "\n",
        "# Додамо проміжні лінії\n",
        "ax.grid(True, linestyle='-.')\n",
        "\n",
        "\n",
        "# Підписуємо осі\n",
        "fig.text(0.9, 0.05, '$x$')\n",
        "fig.text(0.1, 0.9, '$y$')\n",
        "\n",
        "# Ховаємо верхню та праву границі\n",
        "ax.spines[['top', 'right']].set_visible(False)\n",
        "\n",
        "# Змінюємо підписи на осях\n",
        "ax.set_xticks([a, b], labels=['$9$', '$18$'])\n",
        "#ax.set_yticks([])\n",
        "\n",
        "plt.grid()\n",
        "plt.show()\n"
      ]
    },
    {
      "cell_type": "code",
      "source": [
        "import sympy as sp\n",
        "\n",
        "# Задаємо символьну змінну x\n",
        "x = sp.symbols('x')\n",
        "\n",
        "# Задаємо функцію\n",
        "f = 2 * (4 / (1.2 * sp.sqrt(2 * sp.pi)) * sp.exp(-0.5 * ((x - 11) / 1.2) ** 2) +\n",
        "         7 / (2.4 * sp.sqrt(2 * sp.pi)) * sp.exp(-0.5 * ((x - 15) / 2.4) ** 2))\n",
        "\n",
        "# Знаходимо визначений інтеграл від a до b\n",
        "a, b = 9, 18\n",
        "definite_integral = sp.integrate(f, (x, a, b))\n",
        "print(\"Визначений інтеграл від {} до {}: {}\".format(a, b, definite_integral))\n",
        "\n",
        "# Знаходимо невизначений інтеграл\n",
        "indefinite_integral = sp.integrate(f, x)\n",
        "print(\"Невизначений інтеграл:\", indefinite_integral)"
      ],
      "metadata": {
        "colab": {
          "base_uri": "https://localhost:8080/"
        },
        "id": "mBv2iIZMtGYR",
        "outputId": "9627b69e-1789-4616-8003-f91795c00535"
      },
      "execution_count": 13,
      "outputs": [
        {
          "output_type": "stream",
          "name": "stdout",
          "text": [
            "Визначений інтеграл від 9 до 18: 14.178654163478*sqrt(2)\n",
            "Невизначений інтеграл: 4.94974746830583*sqrt(2)*erf(0.294627825494395*x - 4.41941738241592) + 2.82842712474619*sqrt(2)*erf(0.58925565098879*x - 6.48181216087669)\n"
          ]
        }
      ]
    },
    {
      "cell_type": "code",
      "source": [
        "def rectangle_method(f, a, b, n):\n",
        "    \"\"\"\n",
        "    Чисельне інтегрування методом прямокутників.\n",
        "\n",
        "    :param f: функція, що інтегрується\n",
        "    :param a: нижня межа інтегрування\n",
        "    :param b: верхня межа інтегрування\n",
        "    :param n: кількість прямокутників (крок інтегрування)\n",
        "    :return: значення чисельного інтегралу\n",
        "    \"\"\"\n",
        "    dx = (b - a) / n  # ширина кожного прямокутника\n",
        "    integral = 0\n",
        "    for i in range(n):\n",
        "        x_left = a + i * dx  # ліва границя прямокутника\n",
        "        x_right = a + (i + 1) * dx  # права границя прямокутника\n",
        "        x_mid = (x_left + x_right) / 2  # середина прямокутника\n",
        "        integral += f(x_mid) * dx  # площа прямокутника f(x) * dx\n",
        "    return integral\n",
        "\n",
        "    # Задаємо функцію\n",
        "def func(x):\n",
        "    return 2*(4/(1.2*sp.sqrt(2*sp.pi)) * sp.exp(-0.5*((x-11)/1.2)**2) + 7/(2.4*sp.sqrt(2*sp.pi)) * sp.exp(-0.5*((x-15)/2.4)**2))\n",
        "\n",
        "# Границі інтегрування\n",
        "a, b = 9, 18\n",
        "\n",
        "# Кількість прямокутників\n",
        "n = 1000\n",
        "\n",
        "# Обчислення інтегралу методом прямокутників\n",
        "integral_rectangle = rectangle_method(func, a, b, n)\n",
        "\n",
        "print(\"Значення інтегралу методом прямокутників:\", integral_rectangle)"
      ],
      "metadata": {
        "colab": {
          "base_uri": "https://localhost:8080/"
        },
        "id": "oxLrdvT1vsLv",
        "outputId": "8ad888e2-4aa5-4790-d7f5-5b2498eef53e"
      },
      "execution_count": 14,
      "outputs": [
        {
          "output_type": "stream",
          "name": "stdout",
          "text": [
            "Значення інтегралу методом прямокутників: 25.1310168666622*sqrt(2)/sqrt(pi)\n"
          ]
        }
      ]
    },
    {
      "cell_type": "code",
      "source": [
        "def trapezoidal_method(f, a, b, n):\n",
        "    \"\"\"\n",
        "    Чисельне інтегрування методом трапецій.\n",
        "\n",
        "    :param f: функція, що інтегрується\n",
        "    :param a: нижня межа інтегрування\n",
        "    :param b: верхня межа інтегрування\n",
        "    :param n: кількість трапецій (крок інтегрування)\n",
        "    :return: значення чисельного інтегралу\n",
        "    \"\"\"\n",
        "    dx = (b - a) / n  # ширина кожної трапеції\n",
        "    integral = 0.5 * (f(a) + f(b))  # додамо значення функції на початку та в кінці\n",
        "    for i in range(1, n):\n",
        "        x_i = a + i * dx  # x координата точки\n",
        "        integral += f(x_i)  # додаємо значення функції в кожній точці\n",
        "    integral *= dx  # помножимо суму на ширину трапеції\n",
        "    return integral\n",
        "\n",
        "    # Границі інтегрування\n",
        "a, b = 9, 18\n",
        "\n",
        "# Кількість трапецій\n",
        "n = 1000\n",
        "\n",
        "# Обчислення інтегралу методом трапецій\n",
        "integral_trapezoidal = trapezoidal_method(func, a, b, n)\n",
        "\n",
        "print(\"Значення інтегралу методом трапецій:\", integral_trapezoidal)"
      ],
      "metadata": {
        "colab": {
          "base_uri": "https://localhost:8080/"
        },
        "id": "D9hx3OscwObv",
        "outputId": "55867bfe-fda3-4d7e-b788-630d86fd9131"
      },
      "execution_count": 15,
      "outputs": [
        {
          "output_type": "stream",
          "name": "stdout",
          "text": [
            "Значення інтегралу методом трапецій: 25.1309967848198*sqrt(2)/sqrt(pi)\n"
          ]
        }
      ]
    },
    {
      "cell_type": "code",
      "source": [
        "def simpsons_method(f, a, b, n):\n",
        "    \"\"\"\n",
        "    Чисельне інтегрування методом Сімпсона.\n",
        "\n",
        "    :param f: функція, що інтегрується\n",
        "    :param a: нижня межа інтегрування\n",
        "    :param b: верхня межа інтегрування\n",
        "    :param n: кількість підінтервалів (парне число)\n",
        "    :return: значення чисельного інтегралу\n",
        "    \"\"\"\n",
        "    if n % 2 != 0:\n",
        "        raise ValueError(\"Кількість підінтервалів повинна бути парним числом\")\n",
        "\n",
        "    dx = (b - a) / n  # ширина кожного підінтервалу\n",
        "    x_values = np.linspace(a, b, n + 1)  # значення x на всіх підінтервалах\n",
        "    integral = f(a) + f(b)  # додамо значення функції на початку та в кінці\n",
        "    for i in range(1, n, 2):\n",
        "        integral += 4 * f(x_values[i])  # додаємо 4 рази значення функції в кожній другій точці\n",
        "    for i in range(2, n-1, 2):\n",
        "        integral += 2 * f(x_values[i])  # додаємо 2 рази значення функції в кожній другій точці, починаючи з другої\n",
        "    integral *= dx / 3  # помножимо суму на (dx/3)\n",
        "    return integral\n",
        "\n",
        "    # Границі інтегрування\n",
        "a, b = 9, 18\n",
        "\n",
        "# Кількість підінтервалів (повинно бути парним числом)\n",
        "n = 1000\n",
        "\n",
        "# Обчислення інтегралу методом Сімпсона\n",
        "integral_simpson = simpsons_method(func, a, b, n)\n",
        "\n",
        "print(\"Значення інтегралу методом Сімпсона:\", integral_simpson)"
      ],
      "metadata": {
        "colab": {
          "base_uri": "https://localhost:8080/"
        },
        "id": "u9tmNbvmwnqz",
        "outputId": "b81342b6-52f2-4d13-fe66-dbc8f780cf3b"
      },
      "execution_count": 16,
      "outputs": [
        {
          "output_type": "stream",
          "name": "stdout",
          "text": [
            "Значення інтегралу методом Сімпсона: 25.1310101727241*sqrt(2)/sqrt(pi)\n"
          ]
        }
      ]
    },
    {
      "cell_type": "code",
      "source": [
        "import scipy.integrate as spi\n",
        "\n",
        "# Границі інтегрування\n",
        "a, b = 9, 18\n",
        "\n",
        "# Обчислення інтегралу за допомогою quad\n",
        "result, error = spi.quad(func, a, b)\n",
        "\n",
        "print(\"Значення інтегралу:\", result)\n",
        "print(\"Похибка оцінки:\", error)"
      ],
      "metadata": {
        "colab": {
          "base_uri": "https://localhost:8080/"
        },
        "id": "aU0iWY-qx51I",
        "outputId": "87b760b5-394e-467b-e4f9-0cf485428ae9"
      },
      "execution_count": 17,
      "outputs": [
        {
          "output_type": "stream",
          "name": "stdout",
          "text": [
            "Значення інтегралу: 20.051645014188296\n",
            "Похибка оцінки: 1.2672390114804206e-11\n"
          ]
        }
      ]
    }
  ]
}