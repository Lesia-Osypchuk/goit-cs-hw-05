{
  "nbformat": 4,
  "nbformat_minor": 0,
  "metadata": {
    "colab": {
      "provenance": []
    },
    "kernelspec": {
      "name": "python3",
      "display_name": "Python 3"
    },
    "language_info": {
      "name": "python"
    }
  },
  "cells": [
    {
      "cell_type": "markdown",
      "source": [
        "Позначимо:\n",
        "\n",
        "х - кількість робіт по створенню сайтів;\n",
        "\n",
        "у - кількість робіт по розробці інтернет-магазинів;\n",
        "\n",
        "z - кількість робіт по інтеграції з ERP.\n",
        "\n",
        "Цільова функція:\n",
        "\n",
        "2x + 9y + 6Z  → max\n",
        "\n",
        "При цьому маємо систему обмежень:\n",
        "\n",
        "12x + 6y + 2z ≤ 160 * 2;\n",
        "\n",
        "12x + 18y + 18z ≤ 192;\n",
        "\n",
        "12x + 18y + 12z ≤ 180;\n",
        "\n",
        "x,y,z ≥ 0.\n",
        "\n"
      ],
      "metadata": {
        "id": "NL0WguJBwrmy"
      }
    },
    {
      "cell_type": "code",
      "execution_count": 4,
      "metadata": {
        "colab": {
          "base_uri": "https://localhost:8080/"
        },
        "id": "psi9dUxrwKZk",
        "outputId": "2f7e4e53-7a0b-4b89-da26-596568e4837d"
      },
      "outputs": [
        {
          "output_type": "stream",
          "name": "stdout",
          "text": [
            "Оптимальний розподіл послуг за допомогою методу \"highs\":\n",
            "Сайти: 0.0\n",
            "Інтернет-магазини: 8.0\n",
            "Інтеграція з ERP: 0.0\n",
            "Сумарний місячний дохід компанії: 72.0 тис. доларів\n",
            "Оптимальний розподіл послуг за допомогою методу \"revised simplex\":\n",
            "Сайти: 0.0\n",
            "Інтернет-магазини: 8.0\n",
            "Інтеграція з ERP: 0.0\n",
            "Сумарний місячний дохід компанії: 72.0 тис. доларів\n"
          ]
        },
        {
          "output_type": "stream",
          "name": "stderr",
          "text": [
            "<ipython-input-4-4d975570b8c8>:23: DeprecationWarning: `method='revised simplex'` is deprecated and will be removed in SciPy 1.11.0. Please use one of the HiGHS solvers (e.g. `method='highs'`) in new code.\n",
            "  res_revised_simplex = linprog(c, A_ub=A, b_ub=b, bounds=[x0_bounds, x1_bounds, x2_bounds], method=\"revised simplex\")\n"
          ]
        }
      ],
      "source": [
        "from scipy.optimize import linprog\n",
        "\n",
        "# Цільова функція\n",
        "c = [-2, -9, -6]\n",
        "\n",
        "# Коефіцієнти перед змінними в обмеженнях\n",
        "A = [[12, 6, 2],\n",
        "     [12, 24, 18],\n",
        "     [12, 18, 12]]\n",
        "\n",
        "# Значення правих частин обмежень\n",
        "b = [320, 192, 180]\n",
        "\n",
        "# Діапазон значень змінних (від 0 до нескінченності)\n",
        "x0_bounds = (0, None)\n",
        "x1_bounds = (0, None)\n",
        "x2_bounds = (0, None)\n",
        "\n",
        "# Знаходимо оптимальний розподіл послуг за допомогою методу 'highs'\n",
        "res_highs = linprog(c, A_ub=A, b_ub=b, bounds=[x0_bounds, x1_bounds, x2_bounds], method='highs')\n",
        "\n",
        "# Знаходимо оптимальний розподіл послуг за допомогою методу 'revised simplex'\n",
        "res_revised_simplex = linprog(c, A_ub=A, b_ub=b, bounds=[x0_bounds, x1_bounds, x2_bounds], method=\"revised simplex\")\n",
        "\n",
        "# Виведемо результат для методу 'highs'\n",
        "print('Оптимальний розподіл послуг за допомогою методу \"highs\":')\n",
        "print(f\"Сайти: {res_highs.x[0]}\")\n",
        "print(f\"Інтернет-магазини: {res_highs.x[1]}\")\n",
        "print(f\"Інтеграція з ERP: {res_highs.x[2]}\")\n",
        "print(f\"Сумарний місячний дохід компанії: {round(-res_highs.fun, 2)} тис. доларів\")\n",
        "\n",
        "# Виведемо результат для методу 'revised simplex'\n",
        "print('Оптимальний розподіл послуг за допомогою методу \"revised simplex\":')\n",
        "print(f\"Сайти: {res_revised_simplex.x[0]}\")\n",
        "print(f\"Інтернет-магазини: {res_revised_simplex.x[1]}\")\n",
        "print(f\"Інтеграція з ERP: {res_revised_simplex.x[2]}\")\n",
        "print(f\"Сумарний місячний дохід компанії: {round(-res_revised_simplex.fun, 2)} тис. доларів\")"
      ]
    }
  ]
}